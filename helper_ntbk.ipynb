{
 "cells": [
  {
   "cell_type": "markdown",
   "id": "047eaa6e-1ab8-4e9f-88db-874d8bbd8b43",
   "metadata": {},
   "source": [
    "# Commands for Setting-up Development Environment"
   ]
  },
  {
   "cell_type": "code",
   "execution_count": 1,
   "id": "0bec818d-af43-477c-9bcc-9df61ede602a",
   "metadata": {},
   "outputs": [
    {
     "name": "stdout",
     "output_type": "stream",
     "text": [
      "python version: 3.7.6 (default, Jan  8 2020, 19:59:22) \n",
      "[GCC 7.3.0]\n"
     ]
    }
   ],
   "source": [
    "import sys\n",
    "\n",
    "print('python version:', sys.version)"
   ]
  },
  {
   "cell_type": "markdown",
   "id": "b90bae1f-eca1-4349-8286-94ac1d0fb141",
   "metadata": {},
   "source": [
    "## Install packages"
   ]
  },
  {
   "cell_type": "code",
   "execution_count": null,
   "id": "289b2e19-0d6f-45bc-b354-213031f551df",
   "metadata": {},
   "outputs": [],
   "source": [
    "!pip install torch==1.7.1 torchvision==0.8.2"
   ]
  },
  {
   "cell_type": "code",
   "execution_count": null,
   "id": "cd7db9ae-f791-4261-8c92-aa9eb0e4dc0c",
   "metadata": {},
   "outputs": [],
   "source": [
    "!pip install fastai==2.3"
   ]
  },
  {
   "cell_type": "code",
   "execution_count": null,
   "id": "df1ebee1-80f7-4b61-a25e-7fc6c85e2f9b",
   "metadata": {},
   "outputs": [],
   "source": [
    "!pip install timm==0.4.5"
   ]
  },
  {
   "cell_type": "code",
   "execution_count": 2,
   "id": "4e2f8a2a-e612-462a-8be4-6519d2018394",
   "metadata": {},
   "outputs": [
    {
     "name": "stdout",
     "output_type": "stream",
     "text": [
      "torch version: 1.7.1\n",
      "torchvision version: 0.8.0a0\n",
      "fastai version: 2.3.0\n",
      "timm version: 0.4.5\n"
     ]
    }
   ],
   "source": [
    "import torch\n",
    "import torchvision\n",
    "import fastai\n",
    "import timm\n",
    "\n",
    "print('torch version:', torch.__version__)\n",
    "print('torchvision version:', torchvision.__version__)\n",
    "print('fastai version:', fastai.__version__)\n",
    "print('timm version:', timm.__version__)"
   ]
  },
  {
   "cell_type": "markdown",
   "id": "d3dfe858-44c7-4b0b-a954-9e7af8da6f02",
   "metadata": {},
   "source": [
    "## List Available GPUs"
   ]
  },
  {
   "cell_type": "code",
   "execution_count": null,
   "id": "ca2070e5-4b8c-4288-b250-aaff42714c72",
   "metadata": {},
   "outputs": [],
   "source": [
    "import torch\n",
    "\n",
    "print(torch.cuda.device_count())\n",
    "available_gpus = [torch.cuda.device(i) for i in range(torch.cuda.device_count())]\n",
    "available_gpus"
   ]
  },
  {
   "cell_type": "markdown",
   "id": "d0f24669-305e-4f9b-a503-e7cd902a1327",
   "metadata": {},
   "source": [
    "## Set up pycodestyle in Jupyter Lab"
   ]
  },
  {
   "cell_type": "code",
   "execution_count": null,
   "id": "8f89fa94-316d-4349-b4f6-a0fb099db037",
   "metadata": {},
   "outputs": [],
   "source": [
    "!pip install flake8 pycodestyle_magic --user"
   ]
  },
  {
   "cell_type": "code",
   "execution_count": null,
   "id": "c32373a3-b23a-405f-9e83-64d0ba9a7d23",
   "metadata": {},
   "outputs": [],
   "source": [
    "%load_ext pycodestyle_magic\n",
    "%pycodestyle_on"
   ]
  },
  {
   "cell_type": "code",
   "execution_count": null,
   "id": "db92efa5-00a0-4c0f-a651-0d48741c2561",
   "metadata": {},
   "outputs": [],
   "source": [
    "import os\n",
    "\n",
    "\n",
    "def create_path(path):\n",
    "    dir_path = os.path.dirname(path)\n",
    "    if len(dir_path) > 0:\n",
    "        os.makedirs(dir_path, exist_ok=True)\n",
    "\n",
    "\n",
    "config = '''[pycodestyle]\n",
    "max-line-length = 100\n",
    "'''\n",
    "path = os.path.expanduser('~/.config/')\n",
    "create_path(path)\n",
    "with open(path + 'pycodestyle', 'w') as f:\n",
    "    f.write(config)"
   ]
  },
  {
   "cell_type": "markdown",
   "id": "642607a0-5821-4dbc-a89f-75f5c4e36c9c",
   "metadata": {},
   "source": [
    "## Get Data from Google Drive"
   ]
  },
  {
   "cell_type": "markdown",
   "id": "a90c65ef-5040-41c1-b1ca-478bf45e7b32",
   "metadata": {},
   "source": [
    "### Connect to Google Drive"
   ]
  },
  {
   "cell_type": "code",
   "execution_count": null,
   "id": "50d5d6e9-b03e-4ffd-b465-c3ce88408924",
   "metadata": {},
   "outputs": [],
   "source": [
    "from google.colab import drive\n",
    "drive.mount('/content/drive')"
   ]
  },
  {
   "cell_type": "markdown",
   "id": "7c590ba3-5289-4747-aa9b-31d33f2c5ec3",
   "metadata": {},
   "source": [
    "### Extract zip data"
   ]
  },
  {
   "cell_type": "code",
   "execution_count": null,
   "id": "bb4fe835-606a-447c-8eb3-e7931e1f788d",
   "metadata": {},
   "outputs": [],
   "source": [
    "import zipfile\n",
    "from pathlib import Path\n",
    "\n",
    "DATA_DIR = 'data'\n",
    "GOOGLE_DRIVE_DIR = 'drive/MyDrive/'\n",
    "ZIP_FILE = GOOGLE_DRIVE_DIR + 'snake_clef2021_dataset_reseized.zip'\n",
    "\n",
    "# create data directory\n",
    "Path(DATA_DIR).mkdir(parents=True, exist_ok=True)\n",
    "\n",
    "# unzip file\n",
    "with zipfile.ZipFile(ZIP_FILE, 'r') as zip_ref:\n",
    "    zip_ref.extractall(DATA_DIR)"
   ]
  },
  {
   "cell_type": "code",
   "execution_count": null,
   "id": "2aaa2920-d9d2-4880-a6a7-d73962905be3",
   "metadata": {},
   "outputs": [],
   "source": [
    "import tarfile\n",
    "from pathlib import Path\n",
    "\n",
    "DATA_DIR = 'data/snake_clef2021_dataset/'\n",
    "GOOGLE_DRIVE_DIR = 'drive/MyDrive/'\n",
    "TAR_FILE = GOOGLE_DRIVE_DIR + 'snake_clef2021_dataset_reseized.tar.gz'\n",
    "\n",
    "# create data directory\n",
    "Path(DATA_DIR).mkdir(parents=True, exist_ok=True)\n",
    "\n",
    "# untar file\n",
    "with tarfile.open(TAR_FILE) as tar:\n",
    "    tar.extractall(DATA_DIR)"
   ]
  },
  {
   "cell_type": "code",
   "execution_count": null,
   "id": "8192bb39-de9c-415a-be83-bd0a2dc3813d",
   "metadata": {},
   "outputs": [],
   "source": [
    "import zipfile\n",
    "\n",
    "ZIP_FILE = 'src.zip'\n",
    "\n",
    "# unzip file\n",
    "with zipfile.ZipFile(ZIP_FILE, 'r') as zip_ref:\n",
    "    zip_ref.extractall('.')"
   ]
  }
 ],
 "metadata": {
  "kernelspec": {
   "display_name": "Python 3",
   "language": "python",
   "name": "python3"
  },
  "language_info": {
   "codemirror_mode": {
    "name": "ipython",
    "version": 3
   },
   "file_extension": ".py",
   "mimetype": "text/x-python",
   "name": "python",
   "nbconvert_exporter": "python",
   "pygments_lexer": "ipython3",
   "version": "3.7.6"
  }
 },
 "nbformat": 4,
 "nbformat_minor": 5
}
