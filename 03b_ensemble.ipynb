{
 "cells": [
  {
   "cell_type": "markdown",
   "metadata": {},
   "source": [
    "# 03b - Create Ensemble Predictions by Applying Majority Voting Strategy"
   ]
  },
  {
   "cell_type": "code",
   "execution_count": 1,
   "metadata": {},
   "outputs": [],
   "source": [
    "%load_ext pycodestyle_magic\n",
    "%pycodestyle_on"
   ]
  },
  {
   "cell_type": "code",
   "execution_count": 2,
   "metadata": {},
   "outputs": [],
   "source": [
    "import numpy as np\n",
    "import pandas as pd\n",
    "\n",
    "OUTPUT_DIR = 'output/'"
   ]
  },
  {
   "cell_type": "markdown",
   "metadata": {},
   "source": [
    "## Approach 1: Using CSV Files"
   ]
  },
  {
   "cell_type": "code",
   "execution_count": 3,
   "metadata": {},
   "outputs": [],
   "source": [
    "df1 = pd.read_csv(OUTPUT_DIR + 'SnakeCLEF2021_submission_1.csv')\n",
    "df2 = pd.read_csv(OUTPUT_DIR + 'SnakeCLEF2021_submission_2.csv')\n",
    "df3 = pd.read_csv(OUTPUT_DIR + 'SnakeCLEF2021_submission_3.csv')\n",
    "df4 = pd.read_csv(OUTPUT_DIR + 'SnakeCLEF2021_submission_4.csv')\n",
    "dfs = [df1, df2, df3, df4]"
   ]
  },
  {
   "cell_type": "markdown",
   "metadata": {},
   "source": [
    "Compute ratio of same predictions for each pair of submission runs."
   ]
  },
  {
   "cell_type": "code",
   "execution_count": 4,
   "metadata": {},
   "outputs": [
    {
     "data": {
      "text/plain": [
       "array([[1.        , 0.93372196, 0.92404849, 0.796477  ],\n",
       "       [0.93372196, 1.        , 0.91158704, 0.78659232],\n",
       "       [0.92404849, 0.91158704, 1.        , 0.79073206],\n",
       "       [0.796477  , 0.78659232, 0.79073206, 1.        ]])"
      ]
     },
     "execution_count": 4,
     "metadata": {},
     "output_type": "execute_result"
    }
   ],
   "source": [
    "from itertools import product\n",
    "\n",
    "n = len(dfs)\n",
    "pred_aln = np.zeros((n, n))\n",
    "for i, j in product(range(n), range(n)):\n",
    "    alignment = (dfs[i]['prediction'] == dfs[j]['prediction']).sum() / len(dfs[i])\n",
    "    pred_aln[i, j] = pred_aln[j, i] = alignment\n",
    "pred_aln"
   ]
  },
  {
   "cell_type": "markdown",
   "metadata": {},
   "source": [
    "Merge submission runs into one dataframe."
   ]
  },
  {
   "cell_type": "code",
   "execution_count": 5,
   "metadata": {},
   "outputs": [
    {
     "data": {
      "text/html": [
       "<div>\n",
       "<style scoped>\n",
       "    .dataframe tbody tr th:only-of-type {\n",
       "        vertical-align: middle;\n",
       "    }\n",
       "\n",
       "    .dataframe tbody tr th {\n",
       "        vertical-align: top;\n",
       "    }\n",
       "\n",
       "    .dataframe thead th {\n",
       "        text-align: right;\n",
       "    }\n",
       "</style>\n",
       "<table border=\"1\" class=\"dataframe\">\n",
       "  <thead>\n",
       "    <tr style=\"text-align: right;\">\n",
       "      <th></th>\n",
       "      <th>UUID</th>\n",
       "      <th>prediction_1</th>\n",
       "      <th>prediction_2</th>\n",
       "      <th>prediction_3</th>\n",
       "      <th>prediction_4</th>\n",
       "      <th>voted</th>\n",
       "      <th>voted_count</th>\n",
       "    </tr>\n",
       "  </thead>\n",
       "  <tbody>\n",
       "    <tr>\n",
       "      <th>0</th>\n",
       "      <td>f8e1d62d-8c74-47ae-8db9-c4fb0d7a5672</td>\n",
       "      <td>338</td>\n",
       "      <td>338</td>\n",
       "      <td>338</td>\n",
       "      <td>338</td>\n",
       "      <td>338</td>\n",
       "      <td>4</td>\n",
       "    </tr>\n",
       "    <tr>\n",
       "      <th>1</th>\n",
       "      <td>3068da5b-a72c-4398-8f70-afb2134cfa8d</td>\n",
       "      <td>83</td>\n",
       "      <td>83</td>\n",
       "      <td>83</td>\n",
       "      <td>83</td>\n",
       "      <td>83</td>\n",
       "      <td>4</td>\n",
       "    </tr>\n",
       "    <tr>\n",
       "      <th>2</th>\n",
       "      <td>fcaece2a-90c7-4b07-80cf-f901e188dea8</td>\n",
       "      <td>635</td>\n",
       "      <td>635</td>\n",
       "      <td>635</td>\n",
       "      <td>635</td>\n",
       "      <td>635</td>\n",
       "      <td>4</td>\n",
       "    </tr>\n",
       "    <tr>\n",
       "      <th>3</th>\n",
       "      <td>7aa20f9f-2f55-4f8f-93a2-a5a229df4232</td>\n",
       "      <td>509</td>\n",
       "      <td>509</td>\n",
       "      <td>509</td>\n",
       "      <td>509</td>\n",
       "      <td>509</td>\n",
       "      <td>4</td>\n",
       "    </tr>\n",
       "    <tr>\n",
       "      <th>4</th>\n",
       "      <td>a2743578-8204-4f4d-b8e9-1ee65bad4925</td>\n",
       "      <td>637</td>\n",
       "      <td>637</td>\n",
       "      <td>637</td>\n",
       "      <td>637</td>\n",
       "      <td>637</td>\n",
       "      <td>4</td>\n",
       "    </tr>\n",
       "    <tr>\n",
       "      <th>...</th>\n",
       "      <td>...</td>\n",
       "      <td>...</td>\n",
       "      <td>...</td>\n",
       "      <td>...</td>\n",
       "      <td>...</td>\n",
       "      <td>...</td>\n",
       "      <td>...</td>\n",
       "    </tr>\n",
       "    <tr>\n",
       "      <th>23668</th>\n",
       "      <td>5bd061ad-00fe-4c54-ad56-317db73410ba</td>\n",
       "      <td>51</td>\n",
       "      <td>51</td>\n",
       "      <td>51</td>\n",
       "      <td>51</td>\n",
       "      <td>51</td>\n",
       "      <td>4</td>\n",
       "    </tr>\n",
       "    <tr>\n",
       "      <th>23669</th>\n",
       "      <td>8d7a534a-a5fe-40da-aafa-a06805e267c2</td>\n",
       "      <td>184</td>\n",
       "      <td>184</td>\n",
       "      <td>184</td>\n",
       "      <td>184</td>\n",
       "      <td>184</td>\n",
       "      <td>4</td>\n",
       "    </tr>\n",
       "    <tr>\n",
       "      <th>23670</th>\n",
       "      <td>6dc610be-05f9-461c-bc59-9ff8ce174423</td>\n",
       "      <td>699</td>\n",
       "      <td>699</td>\n",
       "      <td>699</td>\n",
       "      <td>699</td>\n",
       "      <td>699</td>\n",
       "      <td>4</td>\n",
       "    </tr>\n",
       "    <tr>\n",
       "      <th>23671</th>\n",
       "      <td>975abfa9-f351-46f7-b1c9-825b819e533a</td>\n",
       "      <td>152</td>\n",
       "      <td>152</td>\n",
       "      <td>152</td>\n",
       "      <td>152</td>\n",
       "      <td>152</td>\n",
       "      <td>4</td>\n",
       "    </tr>\n",
       "    <tr>\n",
       "      <th>23672</th>\n",
       "      <td>35c7f46d-ac65-441d-a811-1a24c0a2f6cc</td>\n",
       "      <td>722</td>\n",
       "      <td>722</td>\n",
       "      <td>562</td>\n",
       "      <td>722</td>\n",
       "      <td>722</td>\n",
       "      <td>3</td>\n",
       "    </tr>\n",
       "  </tbody>\n",
       "</table>\n",
       "<p>23673 rows × 7 columns</p>\n",
       "</div>"
      ],
      "text/plain": [
       "                                       UUID  prediction_1  prediction_2  \\\n",
       "0      f8e1d62d-8c74-47ae-8db9-c4fb0d7a5672           338           338   \n",
       "1      3068da5b-a72c-4398-8f70-afb2134cfa8d            83            83   \n",
       "2      fcaece2a-90c7-4b07-80cf-f901e188dea8           635           635   \n",
       "3      7aa20f9f-2f55-4f8f-93a2-a5a229df4232           509           509   \n",
       "4      a2743578-8204-4f4d-b8e9-1ee65bad4925           637           637   \n",
       "...                                     ...           ...           ...   \n",
       "23668  5bd061ad-00fe-4c54-ad56-317db73410ba            51            51   \n",
       "23669  8d7a534a-a5fe-40da-aafa-a06805e267c2           184           184   \n",
       "23670  6dc610be-05f9-461c-bc59-9ff8ce174423           699           699   \n",
       "23671  975abfa9-f351-46f7-b1c9-825b819e533a           152           152   \n",
       "23672  35c7f46d-ac65-441d-a811-1a24c0a2f6cc           722           722   \n",
       "\n",
       "       prediction_3  prediction_4  voted  voted_count  \n",
       "0               338           338    338            4  \n",
       "1                83            83     83            4  \n",
       "2               635           635    635            4  \n",
       "3               509           509    509            4  \n",
       "4               637           637    637            4  \n",
       "...             ...           ...    ...          ...  \n",
       "23668            51            51     51            4  \n",
       "23669           184           184    184            4  \n",
       "23670           699           699    699            4  \n",
       "23671           152           152    152            4  \n",
       "23672           562           722    722            3  \n",
       "\n",
       "[23673 rows x 7 columns]"
      ]
     },
     "execution_count": 5,
     "metadata": {},
     "output_type": "execute_result"
    }
   ],
   "source": [
    "def max_count(row):\n",
    "    cols = ['prediction_1', 'prediction_2', 'prediction_3', 'prediction_4']\n",
    "    res = row[cols].value_counts()\n",
    "    idx, count = res.index[0], res.iloc[0]\n",
    "    row['voted'] = idx\n",
    "    row['voted_count'] = count\n",
    "    return row\n",
    "\n",
    "\n",
    "# merge together\n",
    "_dfs = [_df.rename(columns={'prediction': f'prediction_{i}'})\n",
    "        for i, _df in enumerate(dfs, 1)]\n",
    "merged = _dfs[0]\n",
    "for _df in _dfs[1:]:\n",
    "    merged = merged.merge(_df, 'left', on='UUID', validate='one_to_one')\n",
    "merged = merged.apply(max_count, axis=1)\n",
    "merged"
   ]
  },
  {
   "cell_type": "code",
   "execution_count": 6,
   "metadata": {},
   "outputs": [
    {
     "data": {
      "text/plain": [
       "4    0.746547\n",
       "3    0.193850\n",
       "2    0.054957\n",
       "1    0.004647\n",
       "Name: voted_count, dtype: float64"
      ]
     },
     "execution_count": 6,
     "metadata": {},
     "output_type": "execute_result"
    }
   ],
   "source": [
    "merged['voted_count'].value_counts() / len(merged)"
   ]
  },
  {
   "cell_type": "code",
   "execution_count": 7,
   "metadata": {},
   "outputs": [],
   "source": [
    "# # save to csv\n",
    "# out = merged[['UUID', 'voted']].rename(columns={'voted': 'prediction'})\n",
    "# out.to_csv(OUTPUT_DIR + 'SnakeCLEF2021_submission_5.csv', sep=',', index=False)"
   ]
  },
  {
   "cell_type": "markdown",
   "metadata": {},
   "source": [
    "## Approach 2: Using Prediction Tensors"
   ]
  },
  {
   "cell_type": "code",
   "execution_count": 8,
   "metadata": {},
   "outputs": [],
   "source": [
    "import torch\n",
    "import torch.nn.functional as F\n",
    "\n",
    "\n",
    "def load_pred_files(filenames, path='./'):\n",
    "    preds_list, targs_list = [], []\n",
    "    for file in filenames:\n",
    "        o = torch.load(path + file)\n",
    "        if isinstance(o, tuple):\n",
    "            preds_list.append(o[0])\n",
    "            targs_list.append(o[1])\n",
    "        else:\n",
    "            preds_list.append(o)\n",
    "    if len(targs_list) > 0:\n",
    "        out = preds_list, targs_list\n",
    "    else:\n",
    "        out = preds_list\n",
    "    return out\n",
    "\n",
    "\n",
    "def save_pred_file(voted, preds_list, targs_list=None, *, filename, path='./'):\n",
    "    voted_onehot = F.one_hot(voted, num_classes=preds_list[0].shape[1])\n",
    "    assert voted_onehot.shape == preds_list[0].shape\n",
    "\n",
    "    if targs_list is not None:\n",
    "        for i in range(len(targs_list)-1):\n",
    "            assert torch.all(targs_list[i] == targs_list[i+1])\n",
    "\n",
    "        torch.save((voted_onehot, targs_list[0]), path + filename)\n",
    "    else:\n",
    "        torch.save(voted_onehot, path + filename)\n",
    "\n",
    "\n",
    "def ensemble_argmax(preds_list):\n",
    "    pred_mat = torch.cat([item.argmax(1).reshape(-1, 1) for item in preds_list], dim=1)\n",
    "    voted = torch.Tensor([torch.unique(x)[0] for x in pred_mat]).to(torch.int64)\n",
    "    return voted\n",
    "\n",
    "\n",
    "def ensemble_probs(preds_list):\n",
    "    sum_preds = 0\n",
    "    for preds in preds_list:\n",
    "        # preds = preds / preds.sum(1).reshape(-1, 1)\n",
    "        sum_preds += preds\n",
    "    voted = sum_preds.argmax(1)\n",
    "    return voted\n",
    "\n",
    "\n",
    "VAL_PRED_FILES = ['val_preds_1.pt', 'val_preds_2.pt', 'val_preds_3.pt', 'val_preds_4.pt']\n",
    "TEST_PRED_FILES = ['test_preds_1.pt', 'test_preds_2.pt', 'test_preds_3.pt', 'test_preds_4.pt']\n",
    "\n",
    "\n",
    "# load predictions and targets\n",
    "val_preds_list, val_targs_list = load_pred_files(VAL_PRED_FILES, path=OUTPUT_DIR)\n",
    "test_preds_list = load_pred_files(TEST_PRED_FILES, path=OUTPUT_DIR)"
   ]
  },
  {
   "cell_type": "markdown",
   "metadata": {},
   "source": [
    "### ArgMax Strategy\n",
    "\n",
    "Ensemble using ArgMax vectors."
   ]
  },
  {
   "cell_type": "code",
   "execution_count": 9,
   "metadata": {},
   "outputs": [
    {
     "data": {
      "text/plain": [
       "tensor([340, 594, 537,  ..., 702, 694, 512])"
      ]
     },
     "execution_count": 9,
     "metadata": {},
     "output_type": "execute_result"
    }
   ],
   "source": [
    "# apply ensembling\n",
    "val_voted_1 = ensemble_argmax(val_preds_list)\n",
    "\n",
    "# save to file\n",
    "save_pred_file(\n",
    "    val_voted_1, val_preds_list, val_targs_list,\n",
    "    filename='val_preds_5.pt', path=OUTPUT_DIR)\n",
    "\n",
    "val_voted_1"
   ]
  },
  {
   "cell_type": "code",
   "execution_count": 10,
   "metadata": {},
   "outputs": [
    {
     "data": {
      "text/plain": [
       "tensor([336,  82, 631,  ..., 695, 151, 558])"
      ]
     },
     "execution_count": 10,
     "metadata": {},
     "output_type": "execute_result"
    }
   ],
   "source": [
    "# apply ensembling\n",
    "test_voted_1 = ensemble_argmax(test_preds_list)\n",
    "\n",
    "# save to file\n",
    "save_pred_file(\n",
    "    test_voted_1, test_preds_list,\n",
    "    filename='test_preds_5.pt', path=OUTPUT_DIR)\n",
    "\n",
    "test_voted_1"
   ]
  },
  {
   "cell_type": "markdown",
   "metadata": {},
   "source": [
    "### Probability Averaging Strategy\n",
    "\n",
    "Ensemble by averaging Probability Tensors."
   ]
  },
  {
   "cell_type": "code",
   "execution_count": 11,
   "metadata": {},
   "outputs": [
    {
     "data": {
      "text/plain": [
       "tensor([340, 594, 537,  ..., 702, 702, 516])"
      ]
     },
     "execution_count": 11,
     "metadata": {},
     "output_type": "execute_result"
    }
   ],
   "source": [
    "# apply ensembling\n",
    "val_voted_2 = ensemble_probs(val_preds_list)\n",
    "\n",
    "# save to file\n",
    "save_pred_file(\n",
    "    val_voted_2, val_preds_list, val_targs_list,\n",
    "    filename='val_preds_6.pt', path=OUTPUT_DIR)\n",
    "\n",
    "val_voted_2"
   ]
  },
  {
   "cell_type": "code",
   "execution_count": 12,
   "metadata": {},
   "outputs": [
    {
     "data": {
      "text/plain": [
       "tensor([336,  82, 631,  ..., 695, 151, 718])"
      ]
     },
     "execution_count": 12,
     "metadata": {},
     "output_type": "execute_result"
    }
   ],
   "source": [
    "# apply ensembling\n",
    "test_voted_2 = ensemble_probs(test_preds_list)\n",
    "\n",
    "# save to file\n",
    "save_pred_file(\n",
    "    test_voted_2, test_preds_list,\n",
    "    filename='test_preds_6.pt', path=OUTPUT_DIR)\n",
    "\n",
    "test_voted_2"
   ]
  },
  {
   "cell_type": "markdown",
   "metadata": {},
   "source": [
    "### Compare ArgMax and Probability Averaging Strategies"
   ]
  },
  {
   "cell_type": "code",
   "execution_count": 13,
   "metadata": {},
   "outputs": [
    {
     "data": {
      "text/plain": [
       "0.7314935922622681"
      ]
     },
     "execution_count": 13,
     "metadata": {},
     "output_type": "execute_result"
    }
   ],
   "source": [
    "((val_voted_1 == val_voted_2).sum() / len(val_voted_1)).item()"
   ]
  },
  {
   "cell_type": "code",
   "execution_count": 14,
   "metadata": {},
   "outputs": [
    {
     "data": {
      "text/plain": [
       "0.8510116934776306"
      ]
     },
     "execution_count": 14,
     "metadata": {},
     "output_type": "execute_result"
    }
   ],
   "source": [
    "((test_voted_1 == test_voted_2).sum() / len(test_voted_1)).item()"
   ]
  },
  {
   "cell_type": "markdown",
   "metadata": {},
   "source": [
    "### Save to csv"
   ]
  },
  {
   "cell_type": "code",
   "execution_count": 15,
   "metadata": {},
   "outputs": [],
   "source": [
    "def voted_to_df(voted, train_df, test_df):\n",
    "    test_preds_np = voted.numpy()\n",
    "\n",
    "    # map test preds on class ids\n",
    "    vocab = np.unique(train_df.loc[train_df['source'] != 'flickr', 'binomial'])\n",
    "    test_preds_names = pd.Series(vocab[test_preds_np])\n",
    "\n",
    "    class_id_map = (train_df[['binomial', 'class_id']].drop_duplicates()\n",
    "                    .set_index('binomial')['class_id'].to_dict())\n",
    "    test_preds_id = test_preds_names.replace(class_id_map)\n",
    "\n",
    "    # create prediction dataframe\n",
    "    out_df = pd.DataFrame(test_df['UUID'])\n",
    "    assert len(out_df) == len(test_preds_id)\n",
    "    out_df['prediction'] = test_preds_id\n",
    "\n",
    "    return out_df\n",
    "\n",
    "\n",
    "DATA_DIR = 'data/snake_clef2021_dataset/'\n",
    "\n",
    "\n",
    "train_df = pd.read_csv(DATA_DIR + 'SnakeCLEF2021_train_metadata_PROD.csv')\n",
    "test_df = pd.read_csv(DATA_DIR + 'SnakeCLEF2021_TEST_METADATA.csv')"
   ]
  },
  {
   "cell_type": "code",
   "execution_count": 16,
   "metadata": {},
   "outputs": [
    {
     "data": {
      "text/html": [
       "<div>\n",
       "<style scoped>\n",
       "    .dataframe tbody tr th:only-of-type {\n",
       "        vertical-align: middle;\n",
       "    }\n",
       "\n",
       "    .dataframe tbody tr th {\n",
       "        vertical-align: top;\n",
       "    }\n",
       "\n",
       "    .dataframe thead th {\n",
       "        text-align: right;\n",
       "    }\n",
       "</style>\n",
       "<table border=\"1\" class=\"dataframe\">\n",
       "  <thead>\n",
       "    <tr style=\"text-align: right;\">\n",
       "      <th></th>\n",
       "      <th>UUID</th>\n",
       "      <th>prediction</th>\n",
       "    </tr>\n",
       "  </thead>\n",
       "  <tbody>\n",
       "    <tr>\n",
       "      <th>0</th>\n",
       "      <td>f8e1d62d-8c74-47ae-8db9-c4fb0d7a5672</td>\n",
       "      <td>338</td>\n",
       "    </tr>\n",
       "    <tr>\n",
       "      <th>1</th>\n",
       "      <td>3068da5b-a72c-4398-8f70-afb2134cfa8d</td>\n",
       "      <td>83</td>\n",
       "    </tr>\n",
       "    <tr>\n",
       "      <th>2</th>\n",
       "      <td>fcaece2a-90c7-4b07-80cf-f901e188dea8</td>\n",
       "      <td>635</td>\n",
       "    </tr>\n",
       "    <tr>\n",
       "      <th>3</th>\n",
       "      <td>7aa20f9f-2f55-4f8f-93a2-a5a229df4232</td>\n",
       "      <td>509</td>\n",
       "    </tr>\n",
       "    <tr>\n",
       "      <th>4</th>\n",
       "      <td>a2743578-8204-4f4d-b8e9-1ee65bad4925</td>\n",
       "      <td>637</td>\n",
       "    </tr>\n",
       "    <tr>\n",
       "      <th>...</th>\n",
       "      <td>...</td>\n",
       "      <td>...</td>\n",
       "    </tr>\n",
       "    <tr>\n",
       "      <th>23668</th>\n",
       "      <td>5bd061ad-00fe-4c54-ad56-317db73410ba</td>\n",
       "      <td>51</td>\n",
       "    </tr>\n",
       "    <tr>\n",
       "      <th>23669</th>\n",
       "      <td>8d7a534a-a5fe-40da-aafa-a06805e267c2</td>\n",
       "      <td>184</td>\n",
       "    </tr>\n",
       "    <tr>\n",
       "      <th>23670</th>\n",
       "      <td>6dc610be-05f9-461c-bc59-9ff8ce174423</td>\n",
       "      <td>699</td>\n",
       "    </tr>\n",
       "    <tr>\n",
       "      <th>23671</th>\n",
       "      <td>975abfa9-f351-46f7-b1c9-825b819e533a</td>\n",
       "      <td>152</td>\n",
       "    </tr>\n",
       "    <tr>\n",
       "      <th>23672</th>\n",
       "      <td>35c7f46d-ac65-441d-a811-1a24c0a2f6cc</td>\n",
       "      <td>562</td>\n",
       "    </tr>\n",
       "  </tbody>\n",
       "</table>\n",
       "<p>23673 rows × 2 columns</p>\n",
       "</div>"
      ],
      "text/plain": [
       "                                       UUID prediction\n",
       "0      f8e1d62d-8c74-47ae-8db9-c4fb0d7a5672        338\n",
       "1      3068da5b-a72c-4398-8f70-afb2134cfa8d         83\n",
       "2      fcaece2a-90c7-4b07-80cf-f901e188dea8        635\n",
       "3      7aa20f9f-2f55-4f8f-93a2-a5a229df4232        509\n",
       "4      a2743578-8204-4f4d-b8e9-1ee65bad4925        637\n",
       "...                                     ...        ...\n",
       "23668  5bd061ad-00fe-4c54-ad56-317db73410ba         51\n",
       "23669  8d7a534a-a5fe-40da-aafa-a06805e267c2        184\n",
       "23670  6dc610be-05f9-461c-bc59-9ff8ce174423        699\n",
       "23671  975abfa9-f351-46f7-b1c9-825b819e533a        152\n",
       "23672  35c7f46d-ac65-441d-a811-1a24c0a2f6cc        562\n",
       "\n",
       "[23673 rows x 2 columns]"
      ]
     },
     "execution_count": 16,
     "metadata": {},
     "output_type": "execute_result"
    }
   ],
   "source": [
    "# create submission dataframe\n",
    "out_df = voted_to_df(test_voted_1, train_df, test_df)\n",
    "\n",
    "# save to csv\n",
    "out_df.to_csv(OUTPUT_DIR + 'SnakeCLEF2021_submission_5.csv', sep=',', index=False)\n",
    "\n",
    "out_df"
   ]
  },
  {
   "cell_type": "code",
   "execution_count": 17,
   "metadata": {},
   "outputs": [
    {
     "data": {
      "text/html": [
       "<div>\n",
       "<style scoped>\n",
       "    .dataframe tbody tr th:only-of-type {\n",
       "        vertical-align: middle;\n",
       "    }\n",
       "\n",
       "    .dataframe tbody tr th {\n",
       "        vertical-align: top;\n",
       "    }\n",
       "\n",
       "    .dataframe thead th {\n",
       "        text-align: right;\n",
       "    }\n",
       "</style>\n",
       "<table border=\"1\" class=\"dataframe\">\n",
       "  <thead>\n",
       "    <tr style=\"text-align: right;\">\n",
       "      <th></th>\n",
       "      <th>UUID</th>\n",
       "      <th>prediction</th>\n",
       "    </tr>\n",
       "  </thead>\n",
       "  <tbody>\n",
       "    <tr>\n",
       "      <th>0</th>\n",
       "      <td>f8e1d62d-8c74-47ae-8db9-c4fb0d7a5672</td>\n",
       "      <td>338</td>\n",
       "    </tr>\n",
       "    <tr>\n",
       "      <th>1</th>\n",
       "      <td>3068da5b-a72c-4398-8f70-afb2134cfa8d</td>\n",
       "      <td>83</td>\n",
       "    </tr>\n",
       "    <tr>\n",
       "      <th>2</th>\n",
       "      <td>fcaece2a-90c7-4b07-80cf-f901e188dea8</td>\n",
       "      <td>635</td>\n",
       "    </tr>\n",
       "    <tr>\n",
       "      <th>3</th>\n",
       "      <td>7aa20f9f-2f55-4f8f-93a2-a5a229df4232</td>\n",
       "      <td>509</td>\n",
       "    </tr>\n",
       "    <tr>\n",
       "      <th>4</th>\n",
       "      <td>a2743578-8204-4f4d-b8e9-1ee65bad4925</td>\n",
       "      <td>637</td>\n",
       "    </tr>\n",
       "    <tr>\n",
       "      <th>...</th>\n",
       "      <td>...</td>\n",
       "      <td>...</td>\n",
       "    </tr>\n",
       "    <tr>\n",
       "      <th>23668</th>\n",
       "      <td>5bd061ad-00fe-4c54-ad56-317db73410ba</td>\n",
       "      <td>51</td>\n",
       "    </tr>\n",
       "    <tr>\n",
       "      <th>23669</th>\n",
       "      <td>8d7a534a-a5fe-40da-aafa-a06805e267c2</td>\n",
       "      <td>184</td>\n",
       "    </tr>\n",
       "    <tr>\n",
       "      <th>23670</th>\n",
       "      <td>6dc610be-05f9-461c-bc59-9ff8ce174423</td>\n",
       "      <td>699</td>\n",
       "    </tr>\n",
       "    <tr>\n",
       "      <th>23671</th>\n",
       "      <td>975abfa9-f351-46f7-b1c9-825b819e533a</td>\n",
       "      <td>152</td>\n",
       "    </tr>\n",
       "    <tr>\n",
       "      <th>23672</th>\n",
       "      <td>35c7f46d-ac65-441d-a811-1a24c0a2f6cc</td>\n",
       "      <td>722</td>\n",
       "    </tr>\n",
       "  </tbody>\n",
       "</table>\n",
       "<p>23673 rows × 2 columns</p>\n",
       "</div>"
      ],
      "text/plain": [
       "                                       UUID prediction\n",
       "0      f8e1d62d-8c74-47ae-8db9-c4fb0d7a5672        338\n",
       "1      3068da5b-a72c-4398-8f70-afb2134cfa8d         83\n",
       "2      fcaece2a-90c7-4b07-80cf-f901e188dea8        635\n",
       "3      7aa20f9f-2f55-4f8f-93a2-a5a229df4232        509\n",
       "4      a2743578-8204-4f4d-b8e9-1ee65bad4925        637\n",
       "...                                     ...        ...\n",
       "23668  5bd061ad-00fe-4c54-ad56-317db73410ba         51\n",
       "23669  8d7a534a-a5fe-40da-aafa-a06805e267c2        184\n",
       "23670  6dc610be-05f9-461c-bc59-9ff8ce174423        699\n",
       "23671  975abfa9-f351-46f7-b1c9-825b819e533a        152\n",
       "23672  35c7f46d-ac65-441d-a811-1a24c0a2f6cc        722\n",
       "\n",
       "[23673 rows x 2 columns]"
      ]
     },
     "execution_count": 17,
     "metadata": {},
     "output_type": "execute_result"
    }
   ],
   "source": [
    "# create submission dataframe\n",
    "out_df = voted_to_df(test_voted_2, train_df, test_df)\n",
    "\n",
    "# save to csv\n",
    "out_df.to_csv(OUTPUT_DIR + 'SnakeCLEF2021_submission_6.csv', sep=',', index=False)\n",
    "\n",
    "out_df"
   ]
  },
  {
   "cell_type": "code",
   "execution_count": null,
   "metadata": {},
   "outputs": [],
   "source": []
  }
 ],
 "metadata": {
  "kernelspec": {
   "display_name": "Python 3",
   "language": "python",
   "name": "python3"
  },
  "language_info": {
   "codemirror_mode": {
    "name": "ipython",
    "version": 3
   },
   "file_extension": ".py",
   "mimetype": "text/x-python",
   "name": "python",
   "nbconvert_exporter": "python",
   "pygments_lexer": "ipython3",
   "version": "3.7.6"
  }
 },
 "nbformat": 4,
 "nbformat_minor": 4
}